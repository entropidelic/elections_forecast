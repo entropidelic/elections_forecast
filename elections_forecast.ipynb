{
 "cells": [
  {
   "cell_type": "code",
   "execution_count": 1,
   "metadata": {},
   "outputs": [],
   "source": [
    "using CSV\n",
    "using DataFrames\n",
    "using Turing\n",
    "using Plots\n",
    "using StatsPlots\n",
    "using Dates\n",
    "using Distributions\n",
    "using StatsFuns: logistic, logit"
   ]
  },
  {
   "cell_type": "markdown",
   "metadata": {},
   "source": [
    "I'm basing my model from the 2012 paper by Linzer:\n",
    "* [Dynamic Bayesian Forecasting of Presidential Elections in the States](https://www.ime.usp.br/~abe/lista/pdfpWRrt4xFLt.pdf)\n",
    "\""
   ]
  },
  {
   "cell_type": "code",
   "execution_count": 2,
   "metadata": {
    "scrolled": true
   },
   "outputs": [],
   "source": [
    "data = CSV.File(\"./data/election_2016/polls/fivethirtyeight/president_general_polls_2016.csv\")\n",
    "df = data |> DataFrame;"
   ]
  },
  {
   "cell_type": "code",
   "execution_count": 9,
   "metadata": {
    "scrolled": true
   },
   "outputs": [],
   "source": [
    "new_df = select(df, :type, :enddate, :pollster, :grade, :samplesize, :state, :rawpoll_clinton, :rawpoll_trump, :adjpoll_clinton, :adjpoll_trump);"
   ]
  },
  {
   "cell_type": "code",
   "execution_count": null,
   "metadata": {},
   "outputs": [],
   "source": [
    "# I will only use the \"polls-only\" type for now, because these are the most consistent with the model I want to implement.\n",
    "\n",
    "clean_polls = dropmissing(filter(row -> row.type == \"polls-only\", new_df));"
   ]
  },
  {
   "cell_type": "code",
   "execution_count": null,
   "metadata": {},
   "outputs": [],
   "source": [
    "date_format = DateFormat(\"mm/dd/yyyy\")\n",
    "poll_dates = Dates.format.(DateTime.(clean_polls.enddate, date_format), date_format);"
   ]
  },
  {
   "cell_type": "code",
   "execution_count": 5,
   "metadata": {},
   "outputs": [
    {
     "data": {
      "text/plain": [
       "12472-element Array{Float64,1}:\n",
       " 40.50216\n",
       " 40.56037\n",
       " 40.48936\n",
       " 35.22936\n",
       " 35.28772\n",
       " 35.21672\n",
       " 34.75656\n",
       " 34.81506\n",
       " 34.74408\n",
       " 35.18376\n",
       " 35.2424\n",
       " 35.17143\n",
       " 36.00981\n",
       "  ⋮\n",
       " 41.80086\n",
       " 52.72585\n",
       " 52.55064\n",
       " 36.69257\n",
       " 26.74907\n",
       " 52.87342\n",
       " 24.32952\n",
       " 16.09479\n",
       " 28.57472\n",
       " 34.18689\n",
       " 40.50982\n",
       " 45.83417"
      ]
     },
     "execution_count": 5,
     "metadata": {},
     "output_type": "execute_result"
    }
   ],
   "source": [
    "sort_idx = sortperm(poll_dates)\n",
    "poll_dates_sorted = unique(poll_dates[sort_idx][1:end-51])\n",
    "poll_dates_sorted_rev = sort(poll_dates_sorted, rev=true)\n",
    "states = unique(clean_polls.state)"
   ]
  },
  {
   "cell_type": "code",
   "execution_count": null,
   "metadata": {},
   "outputs": [],
   "source": [
    "# This function groups all polls in a dictionary of dictionaries for accessing the polls in some state and in some date.\n",
    "\n",
    "function group_by_state_and_date(df)\n",
    "\t\n",
    "\tdate_format = DateFormat(\"mm/dd/yyyy\")\n",
    "\tstate_and_date_dict = Dict{String, Dict{String, Array{Real,2}}}()\n",
    "\t\n",
    "\tfor row in eachrow(df)\n",
    "\t\tif !(row.state in keys(state_and_date_dict))\n",
    "\t\t\tstate_and_date_dict[row.state] = Dict(row.enddate => reshape([Int64(round(row.adjpoll_clinton*row.samplesize/100)), row.adjpoll_trump, row.samplesize], 3, 1))\n",
    "\t\t\t\n",
    "\t\telseif !(row.enddate in keys(state_and_date_dict[row.state]))\n",
    "\t\t\tstate_and_date_dict[row.state][row.enddate] = reshape([Int64(round(row.adjpoll_clinton*row.samplesize/100)), row.adjpoll_trump, row.samplesize], 3, 1)\n",
    "\t\t\n",
    "\t\telse\n",
    "\t\t\tstate_and_date_dict[row.state][row.enddate] = hcat(state_and_date_dict[row.state][row.enddate], [Int64(round(row.adjpoll_clinton*row.samplesize/100)), row.adjpoll_trump, row.samplesize])\n",
    "\t\tend\n",
    "\tend\n",
    "\treturn state_and_date_dict\n",
    "end"
   ]
  },
  {
   "cell_type": "code",
   "execution_count": null,
   "metadata": {},
   "outputs": [],
   "source": [
    "states_and_dates_dict = group_by_state_and_date(clean_polls)"
   ]
  },
  {
   "cell_type": "code",
   "execution_count": null,
   "metadata": {},
   "outputs": [],
   "source": [
    "@model function linzer_model(state_polls_dict, hist_state_forecast, poll_dates, states)\n",
    "\n",
    "\tn_states = length(hist_state_forecast)\n",
    "\tn_dates = length(poll_dates)\n",
    "\t\n",
    "\tσ_δ ~ Uniform(0, 0.5)\n",
    "\tσ_β ~ Uniform(0, 0.5)\n",
    "\t#σ_δ ~ Exponential(1)\n",
    "\t#σ_β ~ Exponential(1)\n",
    "\tσ_δ = 0.01\n",
    "\tσ_β = 0.01\n",
    "\t#dists_δ = Array{Distributions.Normal{Float64}(undef, n_dates)\n",
    "\t\n",
    "\tδ = Vector{Real}(undef, n_dates)\n",
    "\tβ = Array{Real, 2}(undef, n_dates, n_states)\n",
    "\t\n",
    "\t# Random walks of the parameters β and δ\n",
    "\tfor i in 1:(n_dates)\n",
    "\t\tif i == 1\n",
    "\t\t\tδ[i] = 0\n",
    "\t\t\t\n",
    "\t\t\tβ[i,:] = logit.(hist_state_forecast)\n",
    "\t\t\t\n",
    "\t\t#\tfor j in 1:(n_states)\n",
    "\t\t#\t\tβ[i,j] = logit(hist_state_forecast[j])\n",
    "\t\t#\tend\n",
    "\t\t\tcontinue\n",
    "\t\tend\n",
    "\t\t\n",
    "\t\tδ[i] ~ Normal(δ[i-1], σ_δ)\n",
    "\t\tfor j in 1:(n_states)\n",
    "\t\t\tβ[i,j] ~ Normal(β[i-1,j], σ_β)\n",
    "\t\tend\n",
    "\tend\n",
    "\t\n",
    "\tπ = Array{Real,2}(undef, n_dates, n_states)\n",
    "\t\n",
    "\tfor i in 1:n_dates\n",
    "\t\tπ[i,:] = logistic.(β[i,:] .+ δ[i])\n",
    "\tend\n",
    "\t\n",
    "\t# rows -> days\n",
    "\t# columns -> states\n",
    "\t\n",
    "\tfor i in 1:n_states\n",
    "\t\tfor j in 1:n_dates\n",
    "\t\t\t\n",
    "\t\t\tif !(poll_dates[j] in keys(state_polls_dict[states[i]]))\n",
    "\t\t\t\tcontinue\n",
    "\t\t\tend\n",
    "\t\t\t\n",
    "\t\t\tn_polls = length(state_polls_dict[states[i]][poll_dates[j]][1,:])\n",
    "\t\t\t\n",
    "\t\t\tpolls = state_polls_dict[states[i]][poll_dates[j]][1,:] # I am using only Hillary polls for now\n",
    "\t\t\t\n",
    "\t\t\tsample_sizes = state_polls_dict[states[i]][poll_dates[j]][3,:]\n",
    "\t\t\t\n",
    "\t\t\tfor k in 1:n_polls\n",
    "\t\t\t\tpolls[k] ~ Binomial(sample_sizes[k], π[j,i])\n",
    "\t\t\tend\n",
    "\t\tend\n",
    "\tend\n",
    "end"
   ]
  },
  {
   "cell_type": "code",
   "execution_count": null,
   "metadata": {},
   "outputs": [],
   "source": [
    "h = [rand(Normal(0.5,0.02)) for _ in 1:length(states)]"
   ]
  },
  {
   "cell_type": "code",
   "execution_count": null,
   "metadata": {},
   "outputs": [],
   "source": [
    "posterior = sample(linzer_model(states_and_dates_dict, h, poll_dates_sorted_rev, states), HMC(0.05, 10), 100)"
   ]
  }
 ],
 "metadata": {
  "kernelspec": {
   "display_name": "Julia 1.5.0",
   "language": "julia",
   "name": "julia-1.5"
  },
  "language_info": {
   "file_extension": ".jl",
   "mimetype": "application/julia",
   "name": "julia",
   "version": "1.5.0"
  }
 },
 "nbformat": 4,
 "nbformat_minor": 4
}
